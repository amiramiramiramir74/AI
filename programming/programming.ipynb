{
 "cells": [
  {
   "cell_type": "code",
   "execution_count": 2,
   "metadata": {},
   "outputs": [
    {
     "name": "stdout",
     "output_type": "stream",
     "text": [
      "اینیکفایلمتنینمونهاستکهبرایمسلهبرنامهنویسیتولیدشدهاستوهیچکارکرددیگریندارد\n",
      "طبیعتاکدیکهبرایپردازشاینفایلمینویسیدنبایدجملهبندیفایلرابهمبریزدوتنهامواردیکهذکرشدهاسترابایدتغییربدهد\n",
      "ازاینمواردمیتوانیمبهحَذْفْاِعْربوَکراکتِرْهایغیرِمُجازْاِشارهکُنیمْالبتهنبایدفراموشکردکهوهمجزوکاراکترهایغیرمجازمحسوبمیشوند\n",
      "درنهایتمورادموجودازکاراکترهایعربیکهاحتمالاکمهمنیستندبایدبهمعدلهایفارسینهاکهدرصورتمسلهبهناشارهشدهتبدیلشوند\n"
     ]
    }
   ],
   "source": [
    "import re\n",
    "with open(\"C:/Users/pc/Desktop/input.txt\") as f:\n",
    "    \n",
    "    lines=f.readlines()\n",
    "    lines = [line.rstrip() for line in lines]\n",
    "    \n",
    "    g=open(\"C:/Users/pc/Desktop/output.txt\", \"w\",encoding=\"utf-8\")\n",
    "    \n",
    "    for line in lines:\n",
    "        \n",
    "        #######answer1######################\n",
    "        words=line.split()        \n",
    "        if 10<len(words)<50:\n",
    "        \n",
    "        ###################answer4##################################\n",
    "           line=line.replace(\"ي\", \"ی\")\n",
    "           line=line.replace(\"ك\", \"ک\")\n",
    "           line=line.replace(\"ة\", \"ه\")\n",
    "        \n",
    "        #############################answer5##################################\n",
    "           original_pattern = r'\\b(\\w+)\\s*(ترین|تر|اش|اند|ایم|ات|ها|هایی|های|ام|ای|اید)\\b'\n",
    "           new_pattern = '\\\\1\\u200c\\\\2'\n",
    "           line= re.sub (original_pattern, new_pattern, line)\n",
    "            \n",
    "        #############################answer3############################\n",
    "           line=re.sub('[^ا-ی0-9]+', '', line)\n",
    "            \n",
    "           print (line)\n",
    "                 \n",
    "           g.write(line)\n",
    "           g.write('\\n')\n",
    "    \n",
    "    g.close\n",
    "    \n",
    "           \n",
    "    \n",
    "\n"
   ]
  },
  {
   "cell_type": "code",
   "execution_count": null,
   "metadata": {},
   "outputs": [],
   "source": []
  }
 ],
 "metadata": {
  "kernelspec": {
   "display_name": "Python 3",
   "language": "python",
   "name": "python3"
  },
  "language_info": {
   "codemirror_mode": {
    "name": "ipython",
    "version": 3
   },
   "file_extension": ".py",
   "mimetype": "text/x-python",
   "name": "python",
   "nbconvert_exporter": "python",
   "pygments_lexer": "ipython3",
   "version": "3.7.4"
  }
 },
 "nbformat": 4,
 "nbformat_minor": 2
}
